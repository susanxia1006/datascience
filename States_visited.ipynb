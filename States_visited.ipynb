{
 "cells": [
  {
   "cell_type": "markdown",
   "metadata": {},
   "source": [
    "# The states I have visited"
   ]
  },
  {
   "cell_type": "markdown",
   "metadata": {},
   "source": [
    "blog post url:\n",
    "http://blog.supersingularity.co/states_visited/"
   ]
  },
  {
   "cell_type": "code",
   "execution_count": 2,
   "metadata": {
    "collapsed": true
   },
   "outputs": [],
   "source": [
    "import plotly.plotly as py\n",
    "import plotly.graph_objs as go\n",
    "import cufflinks as cf\n",
    "import pandas as pd"
   ]
  },
  {
   "cell_type": "code",
   "execution_count": 37,
   "metadata": {
    "collapsed": true
   },
   "outputs": [],
   "source": [
    "from plotly.offline import init_notebook_mode, download_plotlyjs, plot, iplot"
   ]
  },
  {
   "cell_type": "code",
   "execution_count": 3,
   "metadata": {},
   "outputs": [
    {
     "data": {
      "text/html": [
       "<script>requirejs.config({paths: { 'plotly': ['https://cdn.plot.ly/plotly-latest.min']},});if(!window.Plotly) {{require(['plotly'],function(plotly) {window.Plotly=plotly;});}}</script>"
      ],
      "text/vnd.plotly.v1+html": [
       "<script>requirejs.config({paths: { 'plotly': ['https://cdn.plot.ly/plotly-latest.min']},});if(!window.Plotly) {{require(['plotly'],function(plotly) {window.Plotly=plotly;});}}</script>"
      ]
     },
     "metadata": {},
     "output_type": "display_data"
    }
   ],
   "source": [
    "cf.go_offline(connected=True)"
   ]
  },
  {
   "cell_type": "code",
   "execution_count": 96,
   "metadata": {
    "collapsed": true
   },
   "outputs": [],
   "source": [
    "states_visited = pd.read_csv('states_visited.csv')"
   ]
  },
  {
   "cell_type": "code",
   "execution_count": 102,
   "metadata": {
    "collapsed": true
   },
   "outputs": [],
   "source": [
    "trace = {'type':'choropleth',\n",
    "        'colorscale':'Viridis',\n",
    "        'locations':states_visited['code'],\n",
    "        'z':states_visited['rating'],\n",
    "        'text':states_visited['comments'],\n",
    "        'colorbar':{'title':\"The rating of my experience here (1-5)\"},\n",
    "        'locationmode':'USA-states'}"
   ]
  },
  {
   "cell_type": "code",
   "execution_count": 103,
   "metadata": {
    "collapsed": true
   },
   "outputs": [],
   "source": [
    "layout = {'title':'The States I Have Visited',\n",
    "         'geo':{'scope':'usa',\n",
    "               'showlakes':True,\n",
    "               'lakecolor':'rgb(85,173,240)' }}"
   ]
  },
  {
   "cell_type": "code",
   "execution_count": 104,
   "metadata": {
    "collapsed": true
   },
   "outputs": [],
   "source": [
    "choromap = go.Figure(data=[trace],layout=layout)"
   ]
  },
  {
   "cell_type": "code",
   "execution_count": 105,
   "metadata": {},
   "outputs": [
    {
     "data": {
      "application/vnd.plotly.v1+json": {
       "data": [
        {
         "colorbar": {
          "title": "The rating of my experience here (1-5)"
         },
         "colorscale": "Viridis",
         "locationmode": "USA-states",
         "locations": [
          "PA",
          "NJ",
          "TX",
          "LA",
          "MI",
          "CA",
          "MA",
          "AZ",
          "NC",
          "NY",
          "WA",
          "IN"
         ],
         "text": [
          "I spent college in a small town suburban Philadephia. ",
          "I spent graduate school in Princeton.<br>I spent most of my years in the US in the Northeast and have had my fair share of formiddable winter.",
          "I did a summer internship in Austin.<br>I loved the city which is very lively and welcoming.",
          "I attended a conference in New Orleans.<br> The trip was fun and a good break from the freezing winter.<br>But the 'Southern hospitality' can be overwhelming. ",
          "I spent a summer doing research in the hipster town Ann Arbor.<br>It was gorgegous in the summer but I wouldn't want to spend winters here.",
          " I visited the Golden State (SF LA and SD in particular) many times for various purposes here.  ",
          "Boston is a nice city (in the summer).",
          "Tried to hug a cactus in Tucson!",
          "I spent most of my time here in Raleigh visiting a friend.<br>Nice weather and quiet city.",
          "I made regular trips to the Big Apple since junior year in college.",
          "I spent a summer doing research in Bellvue.<br>Seattle is hippie and new.<br>Has the best yogurt in the country.",
          "I'm pretty sure I put ketchup on my hotdogs in Chicago."
         ],
         "type": "choropleth",
         "z": [
          1,
          2,
          5,
          3,
          4.5,
          4,
          4,
          3,
          3.5,
          2,
          4.5,
          3
         ]
        }
       ],
       "layout": {
        "geo": {
         "lakecolor": "rgb(85,173,240)",
         "scope": "usa",
         "showlakes": true
        },
        "title": "The States I Have Visited"
       }
      },
      "text/html": [
       "<div id=\"39b6a337-fb11-457a-bf06-f405ecbdb3af\" style=\"height: 525px; width: 100%;\" class=\"plotly-graph-div\"></div><script type=\"text/javascript\">require([\"plotly\"], function(Plotly) { window.PLOTLYENV=window.PLOTLYENV || {};window.PLOTLYENV.BASE_URL=\"https://plot.ly\";Plotly.newPlot(\"39b6a337-fb11-457a-bf06-f405ecbdb3af\", [{\"type\": \"choropleth\", \"colorscale\": \"Viridis\", \"locations\": [\"PA\", \"NJ\", \"TX\", \"LA\", \"MI\", \"CA\", \"MA\", \"AZ\", \"NC\", \"NY\", \"WA\", \"IN\"], \"z\": [1.0, 2.0, 5.0, 3.0, 4.5, 4.0, 4.0, 3.0, 3.5, 2.0, 4.5, 3.0], \"text\": [\"I spent college in a small town suburban Philadephia. \", \"I spent graduate school in Princeton.<br>I spent most of my years in the US in the Northeast and have had my fair share of formiddable winter.\", \"I did a summer internship in Austin.<br>I loved the city which is very lively and welcoming.\", \"I attended a conference in New Orleans.<br> The trip was fun and a good break from the freezing winter.<br>But the 'Southern hospitality' can be overwhelming. \", \"I spent a summer doing research in the hipster town Ann Arbor.<br>It was gorgegous in the summer but I wouldn't want to spend winters here.\", \" I visited the Golden State (SF LA and SD in particular) many times for various purposes here.  \", \"Boston is a nice city (in the summer).\", \"Tried to hug a cactus in Tucson!\", \"I spent most of my time here in Raleigh visiting a friend.<br>Nice weather and quiet city.\", \"I made regular trips to the Big Apple since junior year in college.\", \"I spent a summer doing research in Bellvue.<br>Seattle is hippie and new.<br>Has the best yogurt in the country.\", \"I'm pretty sure I put ketchup on my hotdogs in Chicago.\"], \"colorbar\": {\"title\": \"The rating of my experience here (1-5)\"}, \"locationmode\": \"USA-states\"}], {\"title\": \"The States I Have Visited\", \"geo\": {\"scope\": \"usa\", \"showlakes\": true, \"lakecolor\": \"rgb(85,173,240)\"}}, {\"showLink\": true, \"linkText\": \"Export to plot.ly\"})});</script>"
      ],
      "text/vnd.plotly.v1+html": [
       "<div id=\"39b6a337-fb11-457a-bf06-f405ecbdb3af\" style=\"height: 525px; width: 100%;\" class=\"plotly-graph-div\"></div><script type=\"text/javascript\">require([\"plotly\"], function(Plotly) { window.PLOTLYENV=window.PLOTLYENV || {};window.PLOTLYENV.BASE_URL=\"https://plot.ly\";Plotly.newPlot(\"39b6a337-fb11-457a-bf06-f405ecbdb3af\", [{\"type\": \"choropleth\", \"colorscale\": \"Viridis\", \"locations\": [\"PA\", \"NJ\", \"TX\", \"LA\", \"MI\", \"CA\", \"MA\", \"AZ\", \"NC\", \"NY\", \"WA\", \"IN\"], \"z\": [1.0, 2.0, 5.0, 3.0, 4.5, 4.0, 4.0, 3.0, 3.5, 2.0, 4.5, 3.0], \"text\": [\"I spent college in a small town suburban Philadephia. \", \"I spent graduate school in Princeton.<br>I spent most of my years in the US in the Northeast and have had my fair share of formiddable winter.\", \"I did a summer internship in Austin.<br>I loved the city which is very lively and welcoming.\", \"I attended a conference in New Orleans.<br> The trip was fun and a good break from the freezing winter.<br>But the 'Southern hospitality' can be overwhelming. \", \"I spent a summer doing research in the hipster town Ann Arbor.<br>It was gorgegous in the summer but I wouldn't want to spend winters here.\", \" I visited the Golden State (SF LA and SD in particular) many times for various purposes here.  \", \"Boston is a nice city (in the summer).\", \"Tried to hug a cactus in Tucson!\", \"I spent most of my time here in Raleigh visiting a friend.<br>Nice weather and quiet city.\", \"I made regular trips to the Big Apple since junior year in college.\", \"I spent a summer doing research in Bellvue.<br>Seattle is hippie and new.<br>Has the best yogurt in the country.\", \"I'm pretty sure I put ketchup on my hotdogs in Chicago.\"], \"colorbar\": {\"title\": \"The rating of my experience here (1-5)\"}, \"locationmode\": \"USA-states\"}], {\"title\": \"The States I Have Visited\", \"geo\": {\"scope\": \"usa\", \"showlakes\": true, \"lakecolor\": \"rgb(85,173,240)\"}}, {\"showLink\": true, \"linkText\": \"Export to plot.ly\"})});</script>"
      ]
     },
     "metadata": {},
     "output_type": "display_data"
    }
   ],
   "source": [
    "iplot(choromap)"
   ]
  }
 ],
 "metadata": {
  "kernelspec": {
   "display_name": "Python 3",
   "language": "python",
   "name": "python3"
  },
  "language_info": {
   "codemirror_mode": {
    "name": "ipython",
    "version": 3
   },
   "file_extension": ".py",
   "mimetype": "text/x-python",
   "name": "python",
   "nbconvert_exporter": "python",
   "pygments_lexer": "ipython3",
   "version": "3.6.3"
  }
 },
 "nbformat": 4,
 "nbformat_minor": 2
}
